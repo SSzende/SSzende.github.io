{
 "cells": [
  {
   "cell_type": "markdown",
   "metadata": {
    "slideshow": {
     "slide_type": "slide"
    }
   },
   "source": [
    "# Az elektron fajlagos töltése - slideshow"
   ]
  },
  {
   "cell_type": "markdown",
   "metadata": {
    "slideshow": {
     "slide_type": "slide"
    }
   },
   "source": [
    "## Tartalomjegyzék: \n"
   ]
  },
  {
   "cell_type": "markdown",
   "metadata": {
    "slideshow": {
     "slide_type": "fragment"
    }
   },
   "source": [
    "- A mérés célja\n",
    "- A mérés menete\n",
    "- Egy példa kód, és eredmény\n",
    "- Diszkusszió"
   ]
  },
  {
   "cell_type": "markdown",
   "metadata": {
    "slideshow": {
     "slide_type": "slide"
    }
   },
   "source": [
    "## A mérés célja"
   ]
  },
  {
   "cell_type": "markdown",
   "metadata": {
    "slideshow": {
     "slide_type": "subslide"
    }
   },
   "source": [
    "- Megmérni az elektron fajlagos töltését a Thomson-féle kísérletet megismételve, majd az\n",
    "elektron töltésének ismeretében kiszámolni az elektron tömegét."
   ]
  },
  {
   "cell_type": "markdown",
   "metadata": {
    "slideshow": {
     "slide_type": "slide"
    }
   },
   "source": [
    "## A mérés menete "
   ]
  },
  {
   "cell_type": "markdown",
   "metadata": {
    "slideshow": {
     "slide_type": "subslide"
    }
   },
   "source": [
    "Az adatokat a laborvezető küldte el a távmérés keretein belül, de lemérni az alábbi elgondolás\n",
    "alapján kellett:\n",
    "\n",
    "<code style=\"background:yellow;color:black\">A mérés során először kalibráltuk a Helmholtz-tekercseket a Hall-szonda segítségével.</code>\n",
    "\n",
    "\n",
    "Itt az\n",
    "I és az U mennyiségeket mérve meghatározhatjuk a mágneses teret, hiszen $B = \\alpha U_{Hall}$ , ahol $\\alpha = 8.5 \\cdot 10^{−2} \\frac{mT}{mV}$\n",
    ", ez pedig segít a k állandó meghatározásában.\n",
    "\n",
    "Ezután 3 különböző feszültségértéknél megmértük az áramerősség függvényében az átmérőket, ami által meghatározhatóvá vált a fajlagos töltés. Majd reprodukálhatósági mérést végeztünk, hogy tudjunk hibát számolni.\n",
    "\n",
    "<code style=\"background:yellow;color:black\">Az illesztésekhez pythont használtam.</code>\n",
    "\n"
   ]
  },
  {
   "cell_type": "markdown",
   "metadata": {
    "slideshow": {
     "slide_type": "slide"
    }
   },
   "source": [
    "# Példa arra, hogyan illesztek egyenest a pontjaimra"
   ]
  },
  {
   "cell_type": "code",
   "execution_count": 3,
   "metadata": {
    "slideshow": {
     "slide_type": "skip"
    }
   },
   "outputs": [
    {
     "name": "stdout",
     "output_type": "stream",
     "text": [
      "Populating the interactive namespace from numpy and matplotlib\n"
     ]
    }
   ],
   "source": [
    "%pylab inline\n",
    "from scipy.optimize import curve_fit"
   ]
  },
  {
   "cell_type": "code",
   "execution_count": 4,
   "metadata": {
    "slideshow": {
     "slide_type": "skip"
    }
   },
   "outputs": [
    {
     "data": {
      "text/plain": [
       "array([19.5285038 , 17.86728892, 16.40936778, 15.12287335, 13.98194651,\n",
       "       12.96542639, 12.05586204, 11.55532769])"
      ]
     },
     "execution_count": 4,
     "metadata": {},
     "output_type": "execute_result"
    }
   ],
   "source": [
    "adat=loadtxt(\"U130.txt\")\n",
    "adat1=loadtxt(\"U170.txt\")\n",
    "adat2=loadtxt(\"U220.txt\")\n",
    "\n",
    "x=adat[:,0]\n",
    "y=adat[:,1]\n",
    "\n",
    "x1=adat1[:,0]\n",
    "y1=adat1[:,1]\n",
    "\n",
    "x2=adat2[:,0]\n",
    "y2=adat2[:,1]\n",
    "\n",
    "x_=x*1e5\n",
    "y_=y/1e5\n",
    "\n",
    "x_1=x1*1e5\n",
    "y_1=y1/1e5\n",
    "\n",
    "x_2=x2*1e5\n",
    "y_2=y2/1e5\n",
    "size(y)\n",
    "y_2"
   ]
  },
  {
   "cell_type": "code",
   "execution_count": 9,
   "metadata": {
    "slideshow": {
     "slide_type": "slide"
    }
   },
   "outputs": [
    {
     "name": "stdout",
     "output_type": "stream",
     "text": [
      "a,b,c paraméterek: [13.58130069]\n",
      "hibak(a,b,c): [-0.88201813 -0.46896096 -0.28327309  0.30078503  0.05337196  0.18511007\n",
      "  0.10431743  0.40476745]\n"
     ]
    },
    {
     "data": {
      "text/html": [
       "<script>\n",
       "code_show=true; \n",
       "function code_toggle() {\n",
       " if (code_show){\n",
       " $('div.input').hide();\n",
       " $('div.output_stderr').hide();\n",
       " } else {\n",
       " $('div.input').show();\n",
       " $('div.output_stderr').show();\n",
       " }\n",
       " code_show = !code_show\n",
       "} \n",
       "$( document ).ready(code_toggle);\n",
       "</script>\n",
       "<form action='javascript:code_toggle()'><input STYLE='color: #4286f4' \n",
       "type='submit' value='Click here to toggle on/off the raw code.'></form>"
      ],
      "text/plain": [
       "<IPython.core.display.HTML object>"
      ]
     },
     "execution_count": 9,
     "metadata": {},
     "output_type": "execute_result"
    },
    {
     "data": {
      "image/png": "[encoded data removed]",
      "text/plain": [
       "<Figure size 864x504 with 1 Axes>"
      ]
     },
     "metadata": {
      "needs_background": "light"
     },
     "output_type": "display_data"
    }
   ],
   "source": [
    "\n",
    "figsize(12,7)\n",
    "plot(x_2,y_2,'o', label='Adatpontok') \n",
    "def opt1egyenes(t,a): #t a változó, a,b paraméterek\n",
    "    return a*t\n",
    "popt,pcov=curve_fit(opt1egyenes,x_2[1:],y_2[1:])\n",
    "\n",
    "print('a,b,c paraméterek:',popt)\n",
    "\n",
    "plot(linspace(min(x_2),max(x_2),1000),opt1egyenes(linspace(min(x_2),max(x_2),1000), popt[0]),label='Az egyenes', linestyle='dashed')\n",
    "xticks(fontsize=15)\n",
    "yticks(fontsize=15)\n",
    "ylabel('2/B^2 [1/T^2]',fontsize=15)\n",
    "xlabel(' r^2/U [m^2/V] ',fontsize=15)\n",
    "title('Fajlagos töltés, ha U=220 V',fontsize=15)\n",
    "print('hibak(a,b,c):',y_2-opt1egyenes(x_2,popt[0]))\n",
    "legend()\n",
    "#plt.savefig('U220.png',bbox_inches=\"tight\")\n",
    "from IPython.display import HTML\n",
    "\n",
    "HTML('''<script>\n",
    "code_show=true; \n",
    "function code_toggle() {\n",
    " if (code_show){\n",
    " $('div.input').hide();\n",
    " $('div.output_stderr').hide();\n",
    " } else {\n",
    " $('div.input').show();\n",
    " $('div.output_stderr').show();\n",
    " }\n",
    " code_show = !code_show\n",
    "} \n",
    "$( document ).ready(code_toggle);\n",
    "</script>\n",
    "<form action='javascript:code_toggle()'><input STYLE='color: #4286f4' \n",
    "type='submit' value='Click here to toggle on/off the raw code.'></form>''')"
   ]
  },
  {
   "cell_type": "markdown",
   "metadata": {
    "slideshow": {
     "slide_type": "slide"
    }
   },
   "source": [
    "# Diszkusszió"
   ]
  },
  {
   "cell_type": "markdown",
   "metadata": {
    "slideshow": {
     "slide_type": "subslide"
    }
   },
   "source": [
    "## Megismerkedtünk a slidehow-val emellett:\n",
    "A számolásaim alapján az kapott elektrontömeg nagyságrendileg megegyezik az irodalmi\n",
    "értéktől, és attól csak 12.24%-al tér el, amit én elfogadható eltérésnek tartok a labor eszközeihez\n",
    "mérten."
   ]
  },
  {
   "cell_type": "markdown",
   "metadata": {
    "slideshow": {
     "slide_type": "slide"
    }
   },
   "source": [
    "# Köszönöm a figyelmet!"
   ]
  }
 ],
 "metadata": {
  "celltoolbar": "Slideshow",
  "kernelspec": {
   "display_name": "Python 3",
   "language": "python",
   "name": "python3"
  },
  "language_info": {
   "codemirror_mode": {
    "name": "ipython",
    "version": 3
   },
   "file_extension": ".py",
   "mimetype": "text/x-python",
   "name": "python",
   "nbconvert_exporter": "python",
   "pygments_lexer": "ipython3",
   "version": "3.7.6"
  }
 },
 "nbformat": 4,
 "nbformat_minor": 4
}
